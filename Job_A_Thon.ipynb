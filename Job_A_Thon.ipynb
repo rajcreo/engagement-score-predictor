{
  "cells": [
    {
      "cell_type": "markdown",
      "metadata": {
        "id": "view-in-github",
        "colab_type": "text"
      },
      "source": [
        "<a href=\"https://colab.research.google.com/github/rajcreo/jobathon-feb-2022/blob/main/Job_A_Thon.ipynb\" target=\"_parent\"><img src=\"https://colab.research.google.com/assets/colab-badge.svg\" alt=\"Open In Colab\"/></a>"
      ]
    },
    {
      "cell_type": "markdown",
      "metadata": {
        "id": "DzXSmZfpo8e8"
      },
      "source": [
        "# Problem Statement"
      ],
      "id": "DzXSmZfpo8e8"
    },
    {
      "cell_type": "markdown",
      "metadata": {
        "id": "TFeCKNDkpOf1"
      },
      "source": [
        "ABC is an online content sharing platform that enables users to create, upload and share the content in the form of videos. It includes videos from different genres like entertainment, education, sports, technology and so on. The maximum duration of video is 10 minutes.\n",
        "\n",
        "Users can like, comment and share the videos on the platform. \n",
        "\n",
        "Based on the user’s interaction with the videos, engagement score is assigned to the video with respect to each user. Engagement score defines how engaging the content of the video is. \n",
        "\n",
        "Understanding the engagement score of the video improves the user’s interaction with the platform. It defines the type of content that is appealing to the user and engages the larger audience.\n",
        "\n",
        "**Objective** - The main objective of the problem is to develop the machine learning approach to predict the engagement score of the video on the user level."
      ],
      "id": "TFeCKNDkpOf1"
    },
    {
      "cell_type": "markdown",
      "metadata": {
        "id": "TrJIugzzqVJ4"
      },
      "source": [
        "# Table of Content"
      ],
      "id": "TrJIugzzqVJ4"
    },
    {
      "cell_type": "markdown",
      "metadata": {
        "id": "aep7tMmPqcQy"
      },
      "source": [
        "\n",
        "\n",
        "*   **Step 1: Importing Relevant Libraries**\n",
        "*   **Step 2: Data Inspection**\n",
        "*   **Step 3: Data Cleaning**\n",
        "*   **Step 4: Exploratory Data Analysis (EDA)**\n",
        "*   **Step 5: Data Preprocessing**\n",
        "*   **Step 6: Model Building and Training**\n",
        "*   **Step 7: Prediction on Test set and Submission**\n",
        "\n"
      ],
      "id": "aep7tMmPqcQy"
    },
    {
      "cell_type": "markdown",
      "metadata": {
        "id": "973ffbee"
      },
      "source": [
        "# Step 1: Importing Relevant Libraries"
      ],
      "id": "973ffbee"
    },
    {
      "cell_type": "code",
      "execution_count": null,
      "metadata": {
        "id": "d7b40190"
      },
      "outputs": [],
      "source": [
        "import pandas as pd\n",
        "import numpy as np\n",
        "import matplotlib.pyplot as plt \n",
        "import seaborn as sns\n",
        "\n",
        "from sklearn.compose import ColumnTransformer\n",
        "from sklearn.pipeline import Pipeline \n",
        "\n",
        "from sklearn.preprocessing import MinMaxScaler\n",
        "from sklearn.preprocessing import StandardScaler\n",
        "from sklearn.preprocessing import OneHotEncoder\n",
        "\n",
        "from sklearn.model_selection import train_test_split\n",
        "\n",
        "from xgboost import XGBRegressor\n",
        "from xgboost import XGBClassifier\n",
        "\n",
        "from sklearn.metrics import r2_score\n",
        "from sklearn.metrics import mean_squared_error\n",
        "\n",
        "from scipy import stats"
      ],
      "id": "d7b40190"
    },
    {
      "cell_type": "code",
      "execution_count": null,
      "metadata": {
        "id": "94FhAo1ph5vn"
      },
      "outputs": [],
      "source": [
        ""
      ],
      "id": "94FhAo1ph5vn"
    },
    {
      "cell_type": "markdown",
      "metadata": {
        "id": "gZkpRiX_iQXW"
      },
      "source": [
        "#Step 2: Data Inspection"
      ],
      "id": "gZkpRiX_iQXW"
    },
    {
      "cell_type": "code",
      "execution_count": null,
      "metadata": {
        "colab": {
          "base_uri": "https://localhost:8080/"
        },
        "id": "KEDkdn9ng8I1",
        "outputId": "5f1d88b5-d518-436e-f22d-4719fea25cdd"
      },
      "outputs": [
        {
          "output_type": "stream",
          "name": "stdout",
          "text": [
            "Mounted at /content/drive\n"
          ]
        }
      ],
      "source": [
        "# mounting the google drive for importing required dataset\n",
        "from google.colab import drive\n",
        "drive.mount('/content/drive',)"
      ],
      "id": "KEDkdn9ng8I1"
    },
    {
      "cell_type": "code",
      "execution_count": null,
      "metadata": {
        "id": "2445a727"
      },
      "outputs": [],
      "source": [
        "# train and test path setup\n",
        "train_path = \"/content/drive/MyDrive/Job-A-Thon_2022/Dataset/train.csv\"\n",
        "test_path = \"/content/drive/MyDrive/Job-A-Thon_2022/Dataset/test.csv\""
      ],
      "id": "2445a727"
    },
    {
      "cell_type": "code",
      "execution_count": null,
      "metadata": {
        "id": "UBTs4OoQg-Q_"
      },
      "outputs": [],
      "source": [
        "# importing train and test set\n",
        "train = pd.read_csv(train_path)\n",
        "test = pd.read_csv(test_path)"
      ],
      "id": "UBTs4OoQg-Q_"
    },
    {
      "cell_type": "code",
      "execution_count": null,
      "metadata": {
        "colab": {
          "base_uri": "https://localhost:8080/"
        },
        "id": "ovjUTce3irPq",
        "outputId": "f8841dab-c0e5-4b58-ee8a-0c1715b2a177"
      },
      "outputs": [
        {
          "output_type": "stream",
          "name": "stdout",
          "text": [
            "train: (39161, 19)\n",
            "test: (13184, 18)\n"
          ]
        }
      ],
      "source": [
        "# number of records in train and test set\n",
        "print(f\"train: {train.shape}\")\n",
        "print(f\"test: {test.shape}\")"
      ],
      "id": "ovjUTce3irPq"
    },
    {
      "cell_type": "markdown",
      "metadata": {
        "id": "d2zovJsZk2Rn"
      },
      "source": [
        "* **There are total 89197 records and 10 features in train set.**\n",
        "* **There are total 11121 records and 9 features in test set**\n",
        "\n",
        "---"
      ],
      "id": "d2zovJsZk2Rn"
    },
    {
      "cell_type": "code",
      "execution_count": null,
      "metadata": {
        "colab": {
          "base_uri": "https://localhost:8080/"
        },
        "id": "VsV1gPZ7jEct",
        "outputId": "2ce4a3f3-248d-4614-80b4-a5532d048b48"
      },
      "outputs": [
        {
          "output_type": "stream",
          "name": "stdout",
          "text": [
            "<class 'pandas.core.frame.DataFrame'>\n",
            "RangeIndex: 39161 entries, 0 to 39160\n",
            "Data columns (total 19 columns):\n",
            " #   Column                Non-Null Count  Dtype  \n",
            "---  ------                --------------  -----  \n",
            " 0   id                    39161 non-null  int64  \n",
            " 1   created_at            39161 non-null  object \n",
            " 2   campaign_var_1        39161 non-null  int64  \n",
            " 3   campaign_var_2        39161 non-null  int64  \n",
            " 4   products_purchased    18250 non-null  float64\n",
            " 5   signup_date           24048 non-null  object \n",
            " 6   user_activity_var_1   39161 non-null  int64  \n",
            " 7   user_activity_var_2   39161 non-null  int64  \n",
            " 8   user_activity_var_3   39161 non-null  int64  \n",
            " 9   user_activity_var_4   39161 non-null  int64  \n",
            " 10  user_activity_var_5   39161 non-null  int64  \n",
            " 11  user_activity_var_6   39161 non-null  int64  \n",
            " 12  user_activity_var_7   39161 non-null  int64  \n",
            " 13  user_activity_var_8   39161 non-null  int64  \n",
            " 14  user_activity_var_9   39161 non-null  int64  \n",
            " 15  user_activity_var_10  39161 non-null  int64  \n",
            " 16  user_activity_var_11  39161 non-null  int64  \n",
            " 17  user_activity_var_12  39161 non-null  int64  \n",
            " 18  buy                   39161 non-null  int64  \n",
            "dtypes: float64(1), int64(16), object(2)\n",
            "memory usage: 5.7+ MB\n"
          ]
        }
      ],
      "source": [
        "# train info\n",
        "train.info()"
      ],
      "id": "VsV1gPZ7jEct"
    },
    {
      "cell_type": "markdown",
      "metadata": {
        "id": "vImvm4hujkE0"
      },
      "source": [
        "* **Train set conatins no null values.**\n",
        "* **There are 2 categorical (gender and profession) and 8 numerical feature in train set.** \n",
        "* **engagement_score is dependent features and the rest are independent features.**\n",
        "\n",
        "\n",
        "----"
      ],
      "id": "vImvm4hujkE0"
    },
    {
      "cell_type": "markdown",
      "source": [
        "campaign_var1: 1-16, 1-16 (train, test)\n",
        "\n",
        "campaign_var2: 1-15, 1-15\n",
        "\n",
        "products_purchased: 1-4(null), 1-4(null)\n",
        "\n",
        "var_1,6: 0-3, 0-3\n",
        "\n",
        "var_2,3,4,9,10,12: 0-1, 0-1  except(var_9: 0-2)\n",
        "\n",
        "var_5,7,8,: 0-2, 0-2\n",
        "\n",
        "var_11: 0-4, 0-3"
      ],
      "metadata": {
        "id": "c8ZaxiEGtXki"
      },
      "id": "c8ZaxiEGtXki"
    },
    {
      "cell_type": "code",
      "execution_count": null,
      "metadata": {
        "colab": {
          "base_uri": "https://localhost:8080/"
        },
        "id": "dcw8rC5fjL0a",
        "outputId": "74bb3740-f54c-42bd-ebb9-c035dcec7612"
      },
      "outputs": [
        {
          "output_type": "stream",
          "name": "stdout",
          "text": [
            "<class 'pandas.core.frame.DataFrame'>\n",
            "RangeIndex: 13184 entries, 0 to 13183\n",
            "Data columns (total 18 columns):\n",
            " #   Column                Non-Null Count  Dtype  \n",
            "---  ------                --------------  -----  \n",
            " 0   id                    13184 non-null  int64  \n",
            " 1   created_at            13184 non-null  object \n",
            " 2   campaign_var_1        13184 non-null  int64  \n",
            " 3   campaign_var_2        13184 non-null  int64  \n",
            " 4   products_purchased    5048 non-null   float64\n",
            " 5   signup_date           6535 non-null   object \n",
            " 6   user_activity_var_1   13184 non-null  int64  \n",
            " 7   user_activity_var_2   13184 non-null  int64  \n",
            " 8   user_activity_var_3   13184 non-null  int64  \n",
            " 9   user_activity_var_4   13184 non-null  int64  \n",
            " 10  user_activity_var_5   13184 non-null  int64  \n",
            " 11  user_activity_var_6   13184 non-null  int64  \n",
            " 12  user_activity_var_7   13184 non-null  int64  \n",
            " 13  user_activity_var_8   13184 non-null  int64  \n",
            " 14  user_activity_var_9   13184 non-null  int64  \n",
            " 15  user_activity_var_10  13184 non-null  int64  \n",
            " 16  user_activity_var_11  13184 non-null  int64  \n",
            " 17  user_activity_var_12  13184 non-null  int64  \n",
            "dtypes: float64(1), int64(15), object(2)\n",
            "memory usage: 1.8+ MB\n"
          ]
        }
      ],
      "source": [
        "# test info()\n",
        "test.info()"
      ],
      "id": "dcw8rC5fjL0a"
    },
    {
      "cell_type": "markdown",
      "metadata": {
        "id": "V-pISF6ukpkM"
      },
      "source": [
        "* **Test set conatins no null values.**\n",
        "* **There are 2 categorical (gender and profession) and 7 numerical feature in test set.** \n",
        "\n",
        "\n",
        "---"
      ],
      "id": "V-pISF6ukpkM"
    },
    {
      "cell_type": "code",
      "execution_count": null,
      "metadata": {
        "id": "95ppkD-7khjZ"
      },
      "outputs": [],
      "source": [
        ""
      ],
      "id": "95ppkD-7khjZ"
    },
    {
      "cell_type": "markdown",
      "metadata": {
        "id": "xKXVO9g_lkQD"
      },
      "source": [
        "#Step 3: Data Cleaning"
      ],
      "id": "xKXVO9g_lkQD"
    },
    {
      "cell_type": "code",
      "execution_count": null,
      "metadata": {
        "colab": {
          "base_uri": "https://localhost:8080/"
        },
        "id": "pLX2yvmxm0wk",
        "outputId": "e22ab9ae-2629-47bc-b0f3-a1ffb6b26a55"
      },
      "outputs": [
        {
          "output_type": "execute_result",
          "data": {
            "text/plain": [
              "id                          0\n",
              "created_at                  0\n",
              "campaign_var_1              0\n",
              "campaign_var_2              0\n",
              "products_purchased      20911\n",
              "signup_date             15113\n",
              "user_activity_var_1         0\n",
              "user_activity_var_2         0\n",
              "user_activity_var_3         0\n",
              "user_activity_var_4         0\n",
              "user_activity_var_5         0\n",
              "user_activity_var_6         0\n",
              "user_activity_var_7         0\n",
              "user_activity_var_8         0\n",
              "user_activity_var_9         0\n",
              "user_activity_var_10        0\n",
              "user_activity_var_11        0\n",
              "user_activity_var_12        0\n",
              "buy                         0\n",
              "dtype: int64"
            ]
          },
          "metadata": {},
          "execution_count": 11
        }
      ],
      "source": [
        "# missing value in train set\n",
        "train.isnull().sum()"
      ],
      "id": "pLX2yvmxm0wk"
    },
    {
      "cell_type": "code",
      "execution_count": null,
      "metadata": {
        "colab": {
          "base_uri": "https://localhost:8080/"
        },
        "id": "B1BUw0PBnHmW",
        "outputId": "9445f564-14d0-4fe2-f0ab-0ee154188caa"
      },
      "outputs": [
        {
          "output_type": "execute_result",
          "data": {
            "text/plain": [
              "id                         0\n",
              "created_at                 0\n",
              "campaign_var_1             0\n",
              "campaign_var_2             0\n",
              "products_purchased      8136\n",
              "signup_date             6649\n",
              "user_activity_var_1        0\n",
              "user_activity_var_2        0\n",
              "user_activity_var_3        0\n",
              "user_activity_var_4        0\n",
              "user_activity_var_5        0\n",
              "user_activity_var_6        0\n",
              "user_activity_var_7        0\n",
              "user_activity_var_8        0\n",
              "user_activity_var_9        0\n",
              "user_activity_var_10       0\n",
              "user_activity_var_11       0\n",
              "user_activity_var_12       0\n",
              "dtype: int64"
            ]
          },
          "metadata": {},
          "execution_count": 12
        }
      ],
      "source": [
        "# missing value in test set\n",
        "test.isnull().sum()"
      ],
      "id": "B1BUw0PBnHmW"
    },
    {
      "cell_type": "markdown",
      "metadata": {
        "id": "z6SlICNVl51l"
      },
      "source": [
        "**As there is no missing values in train and test set, so we don't have to bother about that.**\n",
        "\n",
        "----"
      ],
      "id": "z6SlICNVl51l"
    },
    {
      "cell_type": "markdown",
      "metadata": {
        "id": "DSDMiFT-TbgL"
      },
      "source": [
        "**As the age, views and followers should not be negative, so checking wether theses features contains any neagtive values or not**"
      ],
      "id": "DSDMiFT-TbgL"
    },
    {
      "cell_type": "code",
      "execution_count": null,
      "metadata": {
        "id": "yxQ-XmxZnRnP"
      },
      "outputs": [],
      "source": [
        "# function to count the negative value in each numerical attributes of the dataset\n",
        "def count_negative(df):\n",
        "  columns = df.select_dtypes(include=[np.int, np.float]).columns\n",
        "  for column in columns:\n",
        "    print(f\"{column}: {len(train[train[column]<0])}\")"
      ],
      "id": "yxQ-XmxZnRnP"
    },
    {
      "cell_type": "code",
      "execution_count": null,
      "metadata": {
        "colab": {
          "base_uri": "https://localhost:8080/"
        },
        "id": "1fxlvRjfWFdT",
        "outputId": "bdf64272-a983-4335-be3e-293d6d42b308"
      },
      "outputs": [
        {
          "output_type": "stream",
          "name": "stdout",
          "text": [
            "id: 0\n",
            "campaign_var_1: 0\n",
            "campaign_var_2: 0\n",
            "products_purchased: 0\n",
            "user_activity_var_1: 0\n",
            "user_activity_var_2: 0\n",
            "user_activity_var_3: 0\n",
            "user_activity_var_4: 0\n",
            "user_activity_var_5: 0\n",
            "user_activity_var_6: 0\n",
            "user_activity_var_7: 0\n",
            "user_activity_var_8: 0\n",
            "user_activity_var_9: 0\n",
            "user_activity_var_10: 0\n",
            "user_activity_var_11: 0\n",
            "user_activity_var_12: 0\n",
            "buy: 0\n"
          ]
        },
        {
          "output_type": "stream",
          "name": "stderr",
          "text": [
            "/usr/local/lib/python3.7/dist-packages/ipykernel_launcher.py:3: DeprecationWarning: `np.int` is a deprecated alias for the builtin `int`. To silence this warning, use `int` by itself. Doing this will not modify any behavior and is safe. When replacing `np.int`, you may wish to use e.g. `np.int64` or `np.int32` to specify the precision. If you wish to review your current use, check the release note link for additional information.\n",
            "Deprecated in NumPy 1.20; for more details and guidance: https://numpy.org/devdocs/release/1.20.0-notes.html#deprecations\n",
            "  This is separate from the ipykernel package so we can avoid doing imports until\n",
            "/usr/local/lib/python3.7/dist-packages/ipykernel_launcher.py:3: DeprecationWarning: `np.float` is a deprecated alias for the builtin `float`. To silence this warning, use `float` by itself. Doing this will not modify any behavior and is safe. If you specifically wanted the numpy scalar type, use `np.float64` here.\n",
            "Deprecated in NumPy 1.20; for more details and guidance: https://numpy.org/devdocs/release/1.20.0-notes.html#deprecations\n",
            "  This is separate from the ipykernel package so we can avoid doing imports until\n"
          ]
        }
      ],
      "source": [
        "# counting negative in train set\n",
        "count_negative(train)"
      ],
      "id": "1fxlvRjfWFdT"
    },
    {
      "cell_type": "code",
      "execution_count": null,
      "metadata": {
        "colab": {
          "base_uri": "https://localhost:8080/"
        },
        "id": "WFkA8J4QWK28",
        "outputId": "1c1571ef-3fa5-4427-f550-b282112cae0a"
      },
      "outputs": [
        {
          "output_type": "stream",
          "name": "stdout",
          "text": [
            "id: 0\n",
            "campaign_var_1: 0\n",
            "campaign_var_2: 0\n",
            "products_purchased: 0\n",
            "user_activity_var_1: 0\n",
            "user_activity_var_2: 0\n",
            "user_activity_var_3: 0\n",
            "user_activity_var_4: 0\n",
            "user_activity_var_5: 0\n",
            "user_activity_var_6: 0\n",
            "user_activity_var_7: 0\n",
            "user_activity_var_8: 0\n",
            "user_activity_var_9: 0\n",
            "user_activity_var_10: 0\n",
            "user_activity_var_11: 0\n",
            "user_activity_var_12: 0\n"
          ]
        },
        {
          "output_type": "stream",
          "name": "stderr",
          "text": [
            "/usr/local/lib/python3.7/dist-packages/ipykernel_launcher.py:3: DeprecationWarning: `np.int` is a deprecated alias for the builtin `int`. To silence this warning, use `int` by itself. Doing this will not modify any behavior and is safe. When replacing `np.int`, you may wish to use e.g. `np.int64` or `np.int32` to specify the precision. If you wish to review your current use, check the release note link for additional information.\n",
            "Deprecated in NumPy 1.20; for more details and guidance: https://numpy.org/devdocs/release/1.20.0-notes.html#deprecations\n",
            "  This is separate from the ipykernel package so we can avoid doing imports until\n",
            "/usr/local/lib/python3.7/dist-packages/ipykernel_launcher.py:3: DeprecationWarning: `np.float` is a deprecated alias for the builtin `float`. To silence this warning, use `float` by itself. Doing this will not modify any behavior and is safe. If you specifically wanted the numpy scalar type, use `np.float64` here.\n",
            "Deprecated in NumPy 1.20; for more details and guidance: https://numpy.org/devdocs/release/1.20.0-notes.html#deprecations\n",
            "  This is separate from the ipykernel package so we can avoid doing imports until\n"
          ]
        }
      ],
      "source": [
        "# counting negative of tets set\n",
        "count_negative(test)"
      ],
      "id": "WFkA8J4QWK28"
    },
    {
      "cell_type": "markdown",
      "metadata": {
        "id": "82qZwMKMWYir"
      },
      "source": [
        "**There is no negative value, so we don't have to bother about that**\n",
        "\n",
        "----"
      ],
      "id": "82qZwMKMWYir"
    },
    {
      "cell_type": "code",
      "source": [
        "# dropping id, created_at, signup_date\n",
        "train_df = train.drop(['id', 'created_at', 'signup_date'], axis=1)"
      ],
      "metadata": {
        "id": "q-DeTgoGw3Zz"
      },
      "id": "q-DeTgoGw3Zz",
      "execution_count": null,
      "outputs": []
    },
    {
      "cell_type": "code",
      "source": [
        "test_df = test.drop(['id', 'created_at', 'signup_date'], axis=1)"
      ],
      "metadata": {
        "id": "mEycBsHUxWWe"
      },
      "id": "mEycBsHUxWWe",
      "execution_count": null,
      "outputs": []
    },
    {
      "cell_type": "code",
      "source": [
        "train_df['products_purchased'] = train_df['products_purchased'].fillna(0)"
      ],
      "metadata": {
        "id": "EHXKPIg0xifR"
      },
      "id": "EHXKPIg0xifR",
      "execution_count": null,
      "outputs": []
    },
    {
      "cell_type": "code",
      "source": [
        "test_df['products_purchased'] = test_df['products_purchased'].fillna(0)"
      ],
      "metadata": {
        "id": "Kd-JtMNbyJdq"
      },
      "id": "Kd-JtMNbyJdq",
      "execution_count": null,
      "outputs": []
    },
    {
      "cell_type": "markdown",
      "metadata": {
        "id": "E53cmLCbnSwZ"
      },
      "source": [
        "# Step 4: Exploratory Data Analysis (EDA)"
      ],
      "id": "E53cmLCbnSwZ"
    },
    {
      "cell_type": "code",
      "execution_count": null,
      "metadata": {
        "colab": {
          "base_uri": "https://localhost:8080/"
        },
        "id": "8gmW1Fozncdo",
        "outputId": "78b26282-a281-4e6f-afa5-ff54a2ed70bd"
      },
      "outputs": [
        {
          "output_type": "execute_result",
          "data": {
            "text/plain": [
              "Index(['campaign_var_1', 'campaign_var_2', 'products_purchased',\n",
              "       'user_activity_var_1', 'user_activity_var_2', 'user_activity_var_3',\n",
              "       'user_activity_var_4', 'user_activity_var_5', 'user_activity_var_6',\n",
              "       'user_activity_var_7', 'user_activity_var_8', 'user_activity_var_9',\n",
              "       'user_activity_var_10', 'user_activity_var_11', 'user_activity_var_12',\n",
              "       'buy'],\n",
              "      dtype='object')"
            ]
          },
          "metadata": {},
          "execution_count": 10
        }
      ],
      "source": [
        "# features of train set\n",
        "train_df.columns"
      ],
      "id": "8gmW1Fozncdo"
    },
    {
      "cell_type": "code",
      "execution_count": null,
      "metadata": {
        "colab": {
          "base_uri": "https://localhost:8080/",
          "height": 270
        },
        "id": "2RPfFkvgoQi1",
        "outputId": "e4119e08-4ae6-480d-8aa7-2a96188c4e06"
      },
      "outputs": [
        {
          "output_type": "execute_result",
          "data": {
            "text/plain": [
              "   campaign_var_1  campaign_var_2  products_purchased  user_activity_var_1  \\\n",
              "0               1               2                 2.0                    0   \n",
              "1               2               1                 2.0                    1   \n",
              "2               9               3                 3.0                    1   \n",
              "3               6               7                 2.0                    0   \n",
              "4               4               6                 0.0                    0   \n",
              "\n",
              "   user_activity_var_2  user_activity_var_3  user_activity_var_4  \\\n",
              "0                    0                    0                    0   \n",
              "1                    0                    1                    0   \n",
              "2                    0                    0                    0   \n",
              "3                    0                    0                    0   \n",
              "4                    0                    0                    0   \n",
              "\n",
              "   user_activity_var_5  user_activity_var_6  user_activity_var_7  \\\n",
              "0                    0                    0                    1   \n",
              "1                    0                    0                    1   \n",
              "2                    0                    0                    0   \n",
              "3                    0                    0                    0   \n",
              "4                    0                    0                    1   \n",
              "\n",
              "   user_activity_var_8  user_activity_var_9  user_activity_var_10  \\\n",
              "0                    1                    0                     0   \n",
              "1                    0                    0                     0   \n",
              "2                    0                    0                     0   \n",
              "3                    0                    0                     0   \n",
              "4                    0                    0                     0   \n",
              "\n",
              "   user_activity_var_11  user_activity_var_12  buy  \n",
              "0                     0                     0    0  \n",
              "1                     0                     0    0  \n",
              "2                     0                     0    0  \n",
              "3                     0                     0    0  \n",
              "4                     1                     0    0  "
            ],
            "text/html": [
              "\n",
              "  <div id=\"df-503f5719-8c68-4031-8b34-f444a45dafbe\">\n",
              "    <div class=\"colab-df-container\">\n",
              "      <div>\n",
              "<style scoped>\n",
              "    .dataframe tbody tr th:only-of-type {\n",
              "        vertical-align: middle;\n",
              "    }\n",
              "\n",
              "    .dataframe tbody tr th {\n",
              "        vertical-align: top;\n",
              "    }\n",
              "\n",
              "    .dataframe thead th {\n",
              "        text-align: right;\n",
              "    }\n",
              "</style>\n",
              "<table border=\"1\" class=\"dataframe\">\n",
              "  <thead>\n",
              "    <tr style=\"text-align: right;\">\n",
              "      <th></th>\n",
              "      <th>campaign_var_1</th>\n",
              "      <th>campaign_var_2</th>\n",
              "      <th>products_purchased</th>\n",
              "      <th>user_activity_var_1</th>\n",
              "      <th>user_activity_var_2</th>\n",
              "      <th>user_activity_var_3</th>\n",
              "      <th>user_activity_var_4</th>\n",
              "      <th>user_activity_var_5</th>\n",
              "      <th>user_activity_var_6</th>\n",
              "      <th>user_activity_var_7</th>\n",
              "      <th>user_activity_var_8</th>\n",
              "      <th>user_activity_var_9</th>\n",
              "      <th>user_activity_var_10</th>\n",
              "      <th>user_activity_var_11</th>\n",
              "      <th>user_activity_var_12</th>\n",
              "      <th>buy</th>\n",
              "    </tr>\n",
              "  </thead>\n",
              "  <tbody>\n",
              "    <tr>\n",
              "      <th>0</th>\n",
              "      <td>1</td>\n",
              "      <td>2</td>\n",
              "      <td>2.0</td>\n",
              "      <td>0</td>\n",
              "      <td>0</td>\n",
              "      <td>0</td>\n",
              "      <td>0</td>\n",
              "      <td>0</td>\n",
              "      <td>0</td>\n",
              "      <td>1</td>\n",
              "      <td>1</td>\n",
              "      <td>0</td>\n",
              "      <td>0</td>\n",
              "      <td>0</td>\n",
              "      <td>0</td>\n",
              "      <td>0</td>\n",
              "    </tr>\n",
              "    <tr>\n",
              "      <th>1</th>\n",
              "      <td>2</td>\n",
              "      <td>1</td>\n",
              "      <td>2.0</td>\n",
              "      <td>1</td>\n",
              "      <td>0</td>\n",
              "      <td>1</td>\n",
              "      <td>0</td>\n",
              "      <td>0</td>\n",
              "      <td>0</td>\n",
              "      <td>1</td>\n",
              "      <td>0</td>\n",
              "      <td>0</td>\n",
              "      <td>0</td>\n",
              "      <td>0</td>\n",
              "      <td>0</td>\n",
              "      <td>0</td>\n",
              "    </tr>\n",
              "    <tr>\n",
              "      <th>2</th>\n",
              "      <td>9</td>\n",
              "      <td>3</td>\n",
              "      <td>3.0</td>\n",
              "      <td>1</td>\n",
              "      <td>0</td>\n",
              "      <td>0</td>\n",
              "      <td>0</td>\n",
              "      <td>0</td>\n",
              "      <td>0</td>\n",
              "      <td>0</td>\n",
              "      <td>0</td>\n",
              "      <td>0</td>\n",
              "      <td>0</td>\n",
              "      <td>0</td>\n",
              "      <td>0</td>\n",
              "      <td>0</td>\n",
              "    </tr>\n",
              "    <tr>\n",
              "      <th>3</th>\n",
              "      <td>6</td>\n",
              "      <td>7</td>\n",
              "      <td>2.0</td>\n",
              "      <td>0</td>\n",
              "      <td>0</td>\n",
              "      <td>0</td>\n",
              "      <td>0</td>\n",
              "      <td>0</td>\n",
              "      <td>0</td>\n",
              "      <td>0</td>\n",
              "      <td>0</td>\n",
              "      <td>0</td>\n",
              "      <td>0</td>\n",
              "      <td>0</td>\n",
              "      <td>0</td>\n",
              "      <td>0</td>\n",
              "    </tr>\n",
              "    <tr>\n",
              "      <th>4</th>\n",
              "      <td>4</td>\n",
              "      <td>6</td>\n",
              "      <td>0.0</td>\n",
              "      <td>0</td>\n",
              "      <td>0</td>\n",
              "      <td>0</td>\n",
              "      <td>0</td>\n",
              "      <td>0</td>\n",
              "      <td>0</td>\n",
              "      <td>1</td>\n",
              "      <td>0</td>\n",
              "      <td>0</td>\n",
              "      <td>0</td>\n",
              "      <td>1</td>\n",
              "      <td>0</td>\n",
              "      <td>0</td>\n",
              "    </tr>\n",
              "  </tbody>\n",
              "</table>\n",
              "</div>\n",
              "      <button class=\"colab-df-convert\" onclick=\"convertToInteractive('df-503f5719-8c68-4031-8b34-f444a45dafbe')\"\n",
              "              title=\"Convert this dataframe to an interactive table.\"\n",
              "              style=\"display:none;\">\n",
              "        \n",
              "  <svg xmlns=\"http://www.w3.org/2000/svg\" height=\"24px\"viewBox=\"0 0 24 24\"\n",
              "       width=\"24px\">\n",
              "    <path d=\"M0 0h24v24H0V0z\" fill=\"none\"/>\n",
              "    <path d=\"M18.56 5.44l.94 2.06.94-2.06 2.06-.94-2.06-.94-.94-2.06-.94 2.06-2.06.94zm-11 1L8.5 8.5l.94-2.06 2.06-.94-2.06-.94L8.5 2.5l-.94 2.06-2.06.94zm10 10l.94 2.06.94-2.06 2.06-.94-2.06-.94-.94-2.06-.94 2.06-2.06.94z\"/><path d=\"M17.41 7.96l-1.37-1.37c-.4-.4-.92-.59-1.43-.59-.52 0-1.04.2-1.43.59L10.3 9.45l-7.72 7.72c-.78.78-.78 2.05 0 2.83L4 21.41c.39.39.9.59 1.41.59.51 0 1.02-.2 1.41-.59l7.78-7.78 2.81-2.81c.8-.78.8-2.07 0-2.86zM5.41 20L4 18.59l7.72-7.72 1.47 1.35L5.41 20z\"/>\n",
              "  </svg>\n",
              "      </button>\n",
              "      \n",
              "  <style>\n",
              "    .colab-df-container {\n",
              "      display:flex;\n",
              "      flex-wrap:wrap;\n",
              "      gap: 12px;\n",
              "    }\n",
              "\n",
              "    .colab-df-convert {\n",
              "      background-color: #E8F0FE;\n",
              "      border: none;\n",
              "      border-radius: 50%;\n",
              "      cursor: pointer;\n",
              "      display: none;\n",
              "      fill: #1967D2;\n",
              "      height: 32px;\n",
              "      padding: 0 0 0 0;\n",
              "      width: 32px;\n",
              "    }\n",
              "\n",
              "    .colab-df-convert:hover {\n",
              "      background-color: #E2EBFA;\n",
              "      box-shadow: 0px 1px 2px rgba(60, 64, 67, 0.3), 0px 1px 3px 1px rgba(60, 64, 67, 0.15);\n",
              "      fill: #174EA6;\n",
              "    }\n",
              "\n",
              "    [theme=dark] .colab-df-convert {\n",
              "      background-color: #3B4455;\n",
              "      fill: #D2E3FC;\n",
              "    }\n",
              "\n",
              "    [theme=dark] .colab-df-convert:hover {\n",
              "      background-color: #434B5C;\n",
              "      box-shadow: 0px 1px 3px 1px rgba(0, 0, 0, 0.15);\n",
              "      filter: drop-shadow(0px 1px 2px rgba(0, 0, 0, 0.3));\n",
              "      fill: #FFFFFF;\n",
              "    }\n",
              "  </style>\n",
              "\n",
              "      <script>\n",
              "        const buttonEl =\n",
              "          document.querySelector('#df-503f5719-8c68-4031-8b34-f444a45dafbe button.colab-df-convert');\n",
              "        buttonEl.style.display =\n",
              "          google.colab.kernel.accessAllowed ? 'block' : 'none';\n",
              "\n",
              "        async function convertToInteractive(key) {\n",
              "          const element = document.querySelector('#df-503f5719-8c68-4031-8b34-f444a45dafbe');\n",
              "          const dataTable =\n",
              "            await google.colab.kernel.invokeFunction('convertToInteractive',\n",
              "                                                     [key], {});\n",
              "          if (!dataTable) return;\n",
              "\n",
              "          const docLinkHtml = 'Like what you see? Visit the ' +\n",
              "            '<a target=\"_blank\" href=https://colab.research.google.com/notebooks/data_table.ipynb>data table notebook</a>'\n",
              "            + ' to learn more about interactive tables.';\n",
              "          element.innerHTML = '';\n",
              "          dataTable['output_type'] = 'display_data';\n",
              "          await google.colab.output.renderOutput(dataTable, element);\n",
              "          const docLink = document.createElement('div');\n",
              "          docLink.innerHTML = docLinkHtml;\n",
              "          element.appendChild(docLink);\n",
              "        }\n",
              "      </script>\n",
              "    </div>\n",
              "  </div>\n",
              "  "
            ]
          },
          "metadata": {},
          "execution_count": 9
        }
      ],
      "source": [
        "# top 5 records of train set\n",
        "train_df.head()"
      ],
      "id": "2RPfFkvgoQi1"
    },
    {
      "cell_type": "code",
      "execution_count": null,
      "metadata": {
        "colab": {
          "base_uri": "https://localhost:8080/"
        },
        "id": "ZnOfEaLioX7h",
        "outputId": "7b070e68-bd07-4a45-c86f-42e23177067a"
      },
      "outputs": [
        {
          "output_type": "execute_result",
          "data": {
            "text/plain": [
              "campaign_var_1          16\n",
              "campaign_var_2          15\n",
              "products_purchased       5\n",
              "user_activity_var_1      4\n",
              "user_activity_var_2      2\n",
              "user_activity_var_3      2\n",
              "user_activity_var_4      2\n",
              "user_activity_var_5      3\n",
              "user_activity_var_6      4\n",
              "user_activity_var_7      3\n",
              "user_activity_var_8      3\n",
              "user_activity_var_9      2\n",
              "user_activity_var_10     2\n",
              "user_activity_var_11     5\n",
              "user_activity_var_12     2\n",
              "buy                      2\n",
              "dtype: int64"
            ]
          },
          "metadata": {},
          "execution_count": 12
        }
      ],
      "source": [
        "# no of unique values in each column of train set\n",
        "train_df.nunique()"
      ],
      "id": "ZnOfEaLioX7h"
    },
    {
      "cell_type": "markdown",
      "metadata": {
        "id": "KQfHWuT53XqF"
      },
      "source": [
        "* **As each value in row_id is unique so this column is not going to contribute any thing in prediction**\n",
        "\n",
        "----\n",
        "\n"
      ],
      "id": "KQfHWuT53XqF"
    },
    {
      "cell_type": "code",
      "execution_count": null,
      "metadata": {
        "colab": {
          "base_uri": "https://localhost:8080/"
        },
        "id": "5CHYxdkq29Rv",
        "outputId": "ec2c06c3-880b-480a-a3cd-806dfe1c2611"
      },
      "outputs": [
        {
          "output_type": "execute_result",
          "data": {
            "text/plain": [
              "campaign_var_1          16\n",
              "campaign_var_2          15\n",
              "products_purchased       5\n",
              "user_activity_var_1      4\n",
              "user_activity_var_2      2\n",
              "user_activity_var_3      2\n",
              "user_activity_var_4      2\n",
              "user_activity_var_5      3\n",
              "user_activity_var_6      4\n",
              "user_activity_var_7      3\n",
              "user_activity_var_8      3\n",
              "user_activity_var_9      3\n",
              "user_activity_var_10     2\n",
              "user_activity_var_11     4\n",
              "user_activity_var_12     2\n",
              "dtype: int64"
            ]
          },
          "metadata": {},
          "execution_count": 13
        }
      ],
      "source": [
        "# no of unique values in each column of test set\n",
        "test_df.nunique()"
      ],
      "id": "5CHYxdkq29Rv"
    },
    {
      "cell_type": "code",
      "execution_count": null,
      "metadata": {
        "id": "P1A84GbIOQps"
      },
      "outputs": [],
      "source": [
        "# function to plot distribution of the data and QQplot\n",
        "def dignostic_plots(df, column):\n",
        "  # distribution plot\n",
        "  plt.figure(figsize=(15,6))\n",
        "  plt.subplot(1,2,1)\n",
        "  sns.distplot(df[column])\n",
        "\n",
        "  # QQ plot\n",
        "  plt.subplot(1,2,2)\n",
        "  stats.probplot(df[column], dist=\"norm\", plot=plt)"
      ],
      "id": "P1A84GbIOQps"
    },
    {
      "cell_type": "code",
      "execution_count": null,
      "metadata": {
        "colab": {
          "base_uri": "https://localhost:8080/",
          "height": 460
        },
        "id": "FSmIa4DCPhjq",
        "outputId": "ba8028b9-a874-4860-d314-ef2ae27a0b50"
      },
      "outputs": [
        {
          "output_type": "stream",
          "name": "stderr",
          "text": [
            "/usr/local/lib/python3.7/dist-packages/seaborn/distributions.py:2619: FutureWarning: `distplot` is a deprecated function and will be removed in a future version. Please adapt your code to use either `displot` (a figure-level function with similar flexibility) or `histplot` (an axes-level function for histograms).\n",
            "  warnings.warn(msg, FutureWarning)\n"
          ]
        },
        {
          "output_type": "display_data",
          "data": {
            "text/plain": [
              "<Figure size 1080x432 with 2 Axes>"
            ],
            "image/png": "[encoded data removed]"
          },
          "metadata": {
            "needs_background": "light"
          }
        }
      ],
      "source": [
        "# distribution and QQ plot of user_id\n",
        "dignostic_plots(train_df, 'campaign_var_1')"
      ],
      "id": "FSmIa4DCPhjq"
    },
    {
      "cell_type": "markdown",
      "metadata": {
        "id": "MycqTrF4Ci37"
      },
      "source": [
        "\n",
        "\n",
        "**user_id is uniforly distributed and there is no outlier**\n",
        "\n",
        "----\n",
        "\n"
      ],
      "id": "MycqTrF4Ci37"
    },
    {
      "cell_type": "code",
      "execution_count": null,
      "metadata": {
        "colab": {
          "base_uri": "https://localhost:8080/",
          "height": 460
        },
        "id": "K0lqu49l4OBj",
        "outputId": "21ab225b-2001-43f3-af23-f43d4c6a067d"
      },
      "outputs": [
        {
          "output_type": "stream",
          "name": "stderr",
          "text": [
            "/usr/local/lib/python3.7/dist-packages/seaborn/distributions.py:2619: FutureWarning: `distplot` is a deprecated function and will be removed in a future version. Please adapt your code to use either `displot` (a figure-level function with similar flexibility) or `histplot` (an axes-level function for histograms).\n",
            "  warnings.warn(msg, FutureWarning)\n"
          ]
        },
        {
          "output_type": "display_data",
          "data": {
            "text/plain": [
              "<Figure size 1080x432 with 2 Axes>"
            ],
            "image/png": "[encoded data removed]"
          },
          "metadata": {
            "needs_background": "light"
          }
        }
      ],
      "source": [
        "# distribution and QQ plot of category_id\n",
        "dignostic_plots(train_df, 'campaign_var_2')"
      ],
      "id": "K0lqu49l4OBj"
    },
    {
      "cell_type": "markdown",
      "metadata": {
        "id": "5QsW4BeXC8Tn"
      },
      "source": [
        "**category_id is right skewed right distribution and there is no outlier**\n",
        "\n",
        "---\n",
        "\n"
      ],
      "id": "5QsW4BeXC8Tn"
    },
    {
      "cell_type": "code",
      "execution_count": null,
      "metadata": {
        "colab": {
          "base_uri": "https://localhost:8080/",
          "height": 460
        },
        "id": "Cri0tLsHSO6M",
        "outputId": "bc0e1b1d-941d-44ff-8453-b8f0a7121ad1"
      },
      "outputs": [
        {
          "output_type": "stream",
          "name": "stderr",
          "text": [
            "/usr/local/lib/python3.7/dist-packages/seaborn/distributions.py:2619: FutureWarning: `distplot` is a deprecated function and will be removed in a future version. Please adapt your code to use either `displot` (a figure-level function with similar flexibility) or `histplot` (an axes-level function for histograms).\n",
            "  warnings.warn(msg, FutureWarning)\n"
          ]
        },
        {
          "output_type": "display_data",
          "data": {
            "text/plain": [
              "<Figure size 1080x432 with 2 Axes>"
            ],
            "image/png": "[encoded data removed]"
          },
          "metadata": {
            "needs_background": "light"
          }
        }
      ],
      "source": [
        "# distribution and QQ plot of video_id\n",
        "dignostic_plots(train, 'products_purchased')"
      ],
      "id": "Cri0tLsHSO6M"
    },
    {
      "cell_type": "code",
      "execution_count": null,
      "metadata": {
        "colab": {
          "base_uri": "https://localhost:8080/"
        },
        "id": "iqBbUWqXDmCI",
        "outputId": "4343b6fe-11d4-46ab-e248-a68632ae838b"
      },
      "outputs": [
        {
          "name": "stderr",
          "output_type": "stream",
          "text": [
            "/usr/local/lib/python3.7/dist-packages/seaborn/distributions.py:2619: FutureWarning: `distplot` is a deprecated function and will be removed in a future version. Please adapt your code to use either `displot` (a figure-level function with similar flexibility) or `histplot` (an axes-level function for histograms).\n",
            "  warnings.warn(msg, FutureWarning)\n"
          ]
        },
        {
          "data": {
            "image/png": "[encoded data removed]",
            "text/plain": [
              "<Figure size 1080x432 with 2 Axes>"
            ]
          },
          "metadata": {},
          "output_type": "display_data"
        }
      ],
      "source": [
        "# distribution and QQ plot of video_id\n",
        "dignostic_plots(train, 'age')"
      ],
      "id": "iqBbUWqXDmCI"
    },
    {
      "cell_type": "code",
      "execution_count": null,
      "metadata": {
        "id": "iZm56IQHEWSV"
      },
      "outputs": [],
      "source": [
        "# function to count number of each label in a column\n",
        "def count_labels(df, column):\n",
        "  unique_arr = df[column].unique()\n",
        "  for item in unique_arr:\n",
        "    print(f\"No. of {item}: {df[column].value_counts()[item]}\")"
      ],
      "id": "iZm56IQHEWSV"
    },
    {
      "cell_type": "code",
      "execution_count": null,
      "metadata": {
        "colab": {
          "base_uri": "https://localhost:8080/"
        },
        "id": "ZAdJ6Kl0XQ7Z",
        "outputId": "95a591cd-9698-4126-a1b4-28e4b9db02b7"
      },
      "outputs": [
        {
          "output_type": "stream",
          "name": "stdout",
          "text": [
            "No. of 2.0: 8867\n",
            "No. of 3.0: 5024\n",
            "No. of 0.0: 20911\n",
            "No. of 1.0: 3643\n",
            "No. of 4.0: 716\n"
          ]
        }
      ],
      "source": [
        "count_labels(train_df, \"products_purchased\")"
      ],
      "id": "ZAdJ6Kl0XQ7Z"
    },
    {
      "cell_type": "code",
      "execution_count": null,
      "metadata": {
        "colab": {
          "base_uri": "https://localhost:8080/",
          "height": 407
        },
        "id": "-MWyvDxmEAsz",
        "outputId": "5d1f605f-c8d8-4771-8561-475ace55560e"
      },
      "outputs": [
        {
          "output_type": "stream",
          "name": "stderr",
          "text": [
            "/usr/local/lib/python3.7/dist-packages/seaborn/_decorators.py:43: FutureWarning: Pass the following variable as a keyword arg: x. From version 0.12, the only valid positional argument will be `data`, and passing other arguments without an explicit keyword will result in an error or misinterpretation.\n",
            "  FutureWarning\n"
          ]
        },
        {
          "output_type": "execute_result",
          "data": {
            "text/plain": [
              "<matplotlib.axes._subplots.AxesSubplot at 0x7f8318fa4390>"
            ]
          },
          "metadata": {},
          "execution_count": 21
        },
        {
          "output_type": "display_data",
          "data": {
            "text/plain": [
              "<Figure size 576x360 with 1 Axes>"
            ],
            "image/png": "[encoded data removed]"
          },
          "metadata": {
            "needs_background": "light"
          }
        }
      ],
      "source": [
        "# countplot to show the gender of the viewers\n",
        "plt.figure(figsize=(8,5))\n",
        "sns.countplot('products_purchased',data=train_df,palette='autumn')"
      ],
      "id": "-MWyvDxmEAsz"
    },
    {
      "cell_type": "markdown",
      "metadata": {
        "id": "j3S97iUrWPM5"
      },
      "source": [
        "**More viewers are male**\n",
        "\n",
        "\n",
        "---"
      ],
      "id": "j3S97iUrWPM5"
    },
    {
      "cell_type": "code",
      "execution_count": null,
      "metadata": {
        "colab": {
          "base_uri": "https://localhost:8080/"
        },
        "id": "QazuIcZmWvOK",
        "outputId": "fe761705-7a5f-434a-e0be-1fb0958f83a4"
      },
      "outputs": [
        {
          "name": "stdout",
          "output_type": "stream",
          "text": [
            "No. of Student: 44638\n",
            "No. of Working Professional: 17719\n",
            "No. of Other: 26840\n"
          ]
        }
      ],
      "source": [
        "count_labels(train, 'profession')"
      ],
      "id": "QazuIcZmWvOK"
    },
    {
      "cell_type": "code",
      "execution_count": null,
      "metadata": {
        "colab": {
          "base_uri": "https://localhost:8080/"
        },
        "id": "Zd6f2iEJHQrY",
        "outputId": "9bef4ae3-eb9b-405a-d46e-05c3ed553c29"
      },
      "outputs": [
        {
          "name": "stderr",
          "output_type": "stream",
          "text": [
            "/usr/local/lib/python3.7/dist-packages/seaborn/_decorators.py:43: FutureWarning: Pass the following variable as a keyword arg: x. From version 0.12, the only valid positional argument will be `data`, and passing other arguments without an explicit keyword will result in an error or misinterpretation.\n",
            "  FutureWarning\n"
          ]
        },
        {
          "data": {
            "text/plain": [
              "<matplotlib.axes._subplots.AxesSubplot at 0x7fd6574d4790>"
            ]
          },
          "execution_count": 259,
          "metadata": {},
          "output_type": "execute_result"
        },
        {
          "data": {
            "image/png": "[encoded data removed]",
            "text/plain": [
              "<Figure size 576x360 with 1 Axes>"
            ]
          },
          "metadata": {},
          "output_type": "display_data"
        }
      ],
      "source": [
        "# countplot to show the profession of the viewers\n",
        "plt.figure(figsize=(8,5))\n",
        "sns.countplot('profession',data=train,palette='summer')"
      ],
      "id": "Zd6f2iEJHQrY"
    },
    {
      "cell_type": "markdown",
      "metadata": {
        "id": "s9jj8Yi6XrJD"
      },
      "source": [
        "**Most of the viewers are student and less viewers are working professional**\n",
        "\n",
        "---"
      ],
      "id": "s9jj8Yi6XrJD"
    },
    {
      "cell_type": "code",
      "execution_count": null,
      "metadata": {
        "colab": {
          "base_uri": "https://localhost:8080/"
        },
        "id": "ryCdfteTXmjc",
        "outputId": "bccef7d5-441b-4e31-b23e-bb9a42b0cc33"
      },
      "outputs": [
        {
          "name": "stderr",
          "output_type": "stream",
          "text": [
            "/usr/local/lib/python3.7/dist-packages/seaborn/distributions.py:2619: FutureWarning: `distplot` is a deprecated function and will be removed in a future version. Please adapt your code to use either `displot` (a figure-level function with similar flexibility) or `histplot` (an axes-level function for histograms).\n",
            "  warnings.warn(msg, FutureWarning)\n"
          ]
        },
        {
          "data": {
            "image/png": "[encoded data removed]",
            "text/plain": [
              "<Figure size 1080x432 with 2 Axes>"
            ]
          },
          "metadata": {},
          "output_type": "display_data"
        }
      ],
      "source": [
        "# distribution and QQ plot of views\n",
        "dignostic_plots(train, 'views')"
      ],
      "id": "ryCdfteTXmjc"
    },
    {
      "cell_type": "code",
      "execution_count": null,
      "metadata": {
        "colab": {
          "base_uri": "https://localhost:8080/"
        },
        "id": "6_Ju8hFuYNa-",
        "outputId": "3729c8c4-2d5f-42ff-e23a-d20a0ed67fe8"
      },
      "outputs": [
        {
          "name": "stderr",
          "output_type": "stream",
          "text": [
            "/usr/local/lib/python3.7/dist-packages/seaborn/distributions.py:2619: FutureWarning: `distplot` is a deprecated function and will be removed in a future version. Please adapt your code to use either `displot` (a figure-level function with similar flexibility) or `histplot` (an axes-level function for histograms).\n",
            "  warnings.warn(msg, FutureWarning)\n"
          ]
        },
        {
          "data": {
            "image/png": "[encoded data removed]",
            "text/plain": [
              "<Figure size 1080x432 with 2 Axes>"
            ]
          },
          "metadata": {},
          "output_type": "display_data"
        }
      ],
      "source": [
        "# distribution and QQ plot of video_id\n",
        "dignostic_plots(train, 'followers')"
      ],
      "id": "6_Ju8hFuYNa-"
    },
    {
      "cell_type": "code",
      "execution_count": null,
      "metadata": {
        "colab": {
          "base_uri": "https://localhost:8080/"
        },
        "id": "uYaIzkefYdO2",
        "outputId": "b34422ba-6556-48a9-bb2c-7b3abfd7ef78"
      },
      "outputs": [
        {
          "name": "stderr",
          "output_type": "stream",
          "text": [
            "/usr/local/lib/python3.7/dist-packages/seaborn/distributions.py:2619: FutureWarning: `distplot` is a deprecated function and will be removed in a future version. Please adapt your code to use either `displot` (a figure-level function with similar flexibility) or `histplot` (an axes-level function for histograms).\n",
            "  warnings.warn(msg, FutureWarning)\n"
          ]
        },
        {
          "data": {
            "image/png": "[encoded data removed]",
            "text/plain": [
              "<Figure size 1080x432 with 2 Axes>"
            ]
          },
          "metadata": {},
          "output_type": "display_data"
        }
      ],
      "source": [
        "# distribution and QQ plot of engagement_score\n",
        "dignostic_plots(train, 'engagement_score')"
      ],
      "id": "uYaIzkefYdO2"
    },
    {
      "cell_type": "markdown",
      "metadata": {
        "id": "k7ENtpF9Yucp"
      },
      "source": [
        "**engagement_score (dependent features ) are right skewed **"
      ],
      "id": "k7ENtpF9Yucp"
    },
    {
      "cell_type": "code",
      "execution_count": null,
      "metadata": {
        "id": "s02yi80xYlnU"
      },
      "outputs": [],
      "source": [
        "# function to print the skew value of each numerical column of the dataset provided\n",
        "def print_skewness(df):\n",
        "  columns = df.select_dtypes(include=[np.int, np.float]).columns\n",
        "  for column in columns:\n",
        "    print(f\"{column}: {df[column].skew()}\")"
      ],
      "id": "s02yi80xYlnU"
    },
    {
      "cell_type": "code",
      "execution_count": null,
      "metadata": {
        "colab": {
          "base_uri": "https://localhost:8080/"
        },
        "id": "jieb-jeopmaK",
        "outputId": "aa81519e-c193-435c-f4e9-42729229d9bf"
      },
      "outputs": [
        {
          "name": "stdout",
          "output_type": "stream",
          "text": [
            "row_id: 0.0\n",
            "user_id: -0.0035944033171487113\n",
            "category_id: 0.4842759917951323\n",
            "video_id: 0.07962899431321899\n",
            "age: 0.579959791454285\n",
            "followers: 0.41416410815286264\n",
            "views: 0.043661712908474044\n",
            "engagement_score: -0.8556303385415264\n"
          ]
        }
      ],
      "source": [
        "print_skewness(train)"
      ],
      "id": "jieb-jeopmaK"
    },
    {
      "cell_type": "code",
      "execution_count": null,
      "metadata": {
        "colab": {
          "base_uri": "https://localhost:8080/"
        },
        "id": "TT0OepNh3k_p",
        "outputId": "45c25cb9-e462-40a1-98c3-17a6caa22df9"
      },
      "outputs": [
        {
          "name": "stdout",
          "output_type": "stream",
          "text": [
            "row_id: 0.0\n",
            "user_id: 0.0036242602250763536\n",
            "category_id: 0.7001439990952302\n",
            "video_id: 0.05006102254039487\n",
            "age: 0.5785019450525777\n",
            "followers: 0.6213516487650282\n",
            "views: 0.31467540735549887\n"
          ]
        }
      ],
      "source": [
        "print_skewness(test)"
      ],
      "id": "TT0OepNh3k_p"
    },
    {
      "cell_type": "code",
      "execution_count": null,
      "metadata": {
        "colab": {
          "base_uri": "https://localhost:8080/"
        },
        "id": "5bBGmgbKSetd",
        "outputId": "9ebb0c6c-9982-4011-e444-7da7c4b0b801"
      },
      "outputs": [
        {
          "data": {
            "image/png": "[encoded data removed]",
            "text/plain": [
              "<Figure size 720x576 with 2 Axes>"
            ]
          },
          "metadata": {},
          "output_type": "display_data"
        }
      ],
      "source": [
        "# heat map of correlation between numeric features\n",
        "pd.set_option('precision',2)\n",
        "plt.figure(figsize=(10, 8))\n",
        "sns.heatmap(train.drop(['engagement_score'],axis=1).corr(), square=True)\n",
        "plt.suptitle(\"Pearson Correlation Heatmap\")\n",
        "plt.show();"
      ],
      "id": "5bBGmgbKSetd"
    },
    {
      "cell_type": "markdown",
      "metadata": {
        "id": "eo8RGopgEycu"
      },
      "source": [
        "**There is no features highly corelated to each other**\n",
        "\n",
        "----"
      ],
      "id": "eo8RGopgEycu"
    },
    {
      "cell_type": "code",
      "execution_count": null,
      "metadata": {
        "colab": {
          "base_uri": "https://localhost:8080/"
        },
        "id": "g-4Ns2CECy5D",
        "outputId": "92fb57bd-9499-49da-b9eb-16af4a7dcede"
      },
      "outputs": [
        {
          "data": {
            "image/png": "[encoded data removed]",
            "text/plain": [
              "<Figure size 1008x432 with 1 Axes>"
            ]
          },
          "metadata": {},
          "output_type": "display_data"
        }
      ],
      "source": [
        "# correalation of targret features with numeric features\n",
        "corr_with_engagement_score = train.corr()['engagement_score'].sort_values(ascending=False)\n",
        "plt.figure(figsize=(14,6))\n",
        "corr_with_engagement_score.drop(\"engagement_score\").plot.bar()\n",
        "plt.show();"
      ],
      "id": "g-4Ns2CECy5D"
    },
    {
      "cell_type": "markdown",
      "metadata": {
        "id": "igH2klmDGNal"
      },
      "source": [
        "**followers and user_id is negligibly correlated to target**\n",
        "\n",
        "----"
      ],
      "id": "igH2klmDGNal"
    },
    {
      "cell_type": "code",
      "execution_count": null,
      "metadata": {
        "id": "WQrrL6KtC1F8"
      },
      "outputs": [],
      "source": [
        ""
      ],
      "id": "WQrrL6KtC1F8"
    },
    {
      "cell_type": "markdown",
      "metadata": {
        "id": "oWRoIMk-12pg"
      },
      "source": [
        "# Step 5: Data Preprocessing"
      ],
      "id": "oWRoIMk-12pg"
    },
    {
      "cell_type": "code",
      "execution_count": null,
      "metadata": {
        "colab": {
          "base_uri": "https://localhost:8080/",
          "height": 270
        },
        "id": "Wb4m18Td18EY",
        "outputId": "5b27b2bc-1826-43ac-e436-1a3bfd0ce129"
      },
      "outputs": [
        {
          "output_type": "execute_result",
          "data": {
            "text/plain": [
              "   id  created_at  campaign_var_1  campaign_var_2  products_purchased  \\\n",
              "0   1  2021-01-01               1               2                 2.0   \n",
              "1   2  2021-01-01               2               1                 2.0   \n",
              "2   3  2021-01-01               9               3                 3.0   \n",
              "3   4  2021-01-01               6               7                 2.0   \n",
              "4   5  2021-01-01               4               6                 NaN   \n",
              "\n",
              "  signup_date  user_activity_var_1  user_activity_var_2  user_activity_var_3  \\\n",
              "0  2020-09-24                    0                    0                    0   \n",
              "1  2020-09-19                    1                    0                    1   \n",
              "2  2021-08-11                    1                    0                    0   \n",
              "3  2017-10-04                    0                    0                    0   \n",
              "4  2020-06-08                    0                    0                    0   \n",
              "\n",
              "   user_activity_var_4  user_activity_var_5  user_activity_var_6  \\\n",
              "0                    0                    0                    0   \n",
              "1                    0                    0                    0   \n",
              "2                    0                    0                    0   \n",
              "3                    0                    0                    0   \n",
              "4                    0                    0                    0   \n",
              "\n",
              "   user_activity_var_7  user_activity_var_8  user_activity_var_9  \\\n",
              "0                    1                    1                    0   \n",
              "1                    1                    0                    0   \n",
              "2                    0                    0                    0   \n",
              "3                    0                    0                    0   \n",
              "4                    1                    0                    0   \n",
              "\n",
              "   user_activity_var_10  user_activity_var_11  user_activity_var_12  buy  \n",
              "0                     0                     0                     0    0  \n",
              "1                     0                     0                     0    0  \n",
              "2                     0                     0                     0    0  \n",
              "3                     0                     0                     0    0  \n",
              "4                     0                     1                     0    0  "
            ],
            "text/html": [
              "\n",
              "  <div id=\"df-19ec0a4c-6b6c-4b58-a323-c5e6412af520\">\n",
              "    <div class=\"colab-df-container\">\n",
              "      <div>\n",
              "<style scoped>\n",
              "    .dataframe tbody tr th:only-of-type {\n",
              "        vertical-align: middle;\n",
              "    }\n",
              "\n",
              "    .dataframe tbody tr th {\n",
              "        vertical-align: top;\n",
              "    }\n",
              "\n",
              "    .dataframe thead th {\n",
              "        text-align: right;\n",
              "    }\n",
              "</style>\n",
              "<table border=\"1\" class=\"dataframe\">\n",
              "  <thead>\n",
              "    <tr style=\"text-align: right;\">\n",
              "      <th></th>\n",
              "      <th>id</th>\n",
              "      <th>created_at</th>\n",
              "      <th>campaign_var_1</th>\n",
              "      <th>campaign_var_2</th>\n",
              "      <th>products_purchased</th>\n",
              "      <th>signup_date</th>\n",
              "      <th>user_activity_var_1</th>\n",
              "      <th>user_activity_var_2</th>\n",
              "      <th>user_activity_var_3</th>\n",
              "      <th>user_activity_var_4</th>\n",
              "      <th>user_activity_var_5</th>\n",
              "      <th>user_activity_var_6</th>\n",
              "      <th>user_activity_var_7</th>\n",
              "      <th>user_activity_var_8</th>\n",
              "      <th>user_activity_var_9</th>\n",
              "      <th>user_activity_var_10</th>\n",
              "      <th>user_activity_var_11</th>\n",
              "      <th>user_activity_var_12</th>\n",
              "      <th>buy</th>\n",
              "    </tr>\n",
              "  </thead>\n",
              "  <tbody>\n",
              "    <tr>\n",
              "      <th>0</th>\n",
              "      <td>1</td>\n",
              "      <td>2021-01-01</td>\n",
              "      <td>1</td>\n",
              "      <td>2</td>\n",
              "      <td>2.0</td>\n",
              "      <td>2020-09-24</td>\n",
              "      <td>0</td>\n",
              "      <td>0</td>\n",
              "      <td>0</td>\n",
              "      <td>0</td>\n",
              "      <td>0</td>\n",
              "      <td>0</td>\n",
              "      <td>1</td>\n",
              "      <td>1</td>\n",
              "      <td>0</td>\n",
              "      <td>0</td>\n",
              "      <td>0</td>\n",
              "      <td>0</td>\n",
              "      <td>0</td>\n",
              "    </tr>\n",
              "    <tr>\n",
              "      <th>1</th>\n",
              "      <td>2</td>\n",
              "      <td>2021-01-01</td>\n",
              "      <td>2</td>\n",
              "      <td>1</td>\n",
              "      <td>2.0</td>\n",
              "      <td>2020-09-19</td>\n",
              "      <td>1</td>\n",
              "      <td>0</td>\n",
              "      <td>1</td>\n",
              "      <td>0</td>\n",
              "      <td>0</td>\n",
              "      <td>0</td>\n",
              "      <td>1</td>\n",
              "      <td>0</td>\n",
              "      <td>0</td>\n",
              "      <td>0</td>\n",
              "      <td>0</td>\n",
              "      <td>0</td>\n",
              "      <td>0</td>\n",
              "    </tr>\n",
              "    <tr>\n",
              "      <th>2</th>\n",
              "      <td>3</td>\n",
              "      <td>2021-01-01</td>\n",
              "      <td>9</td>\n",
              "      <td>3</td>\n",
              "      <td>3.0</td>\n",
              "      <td>2021-08-11</td>\n",
              "      <td>1</td>\n",
              "      <td>0</td>\n",
              "      <td>0</td>\n",
              "      <td>0</td>\n",
              "      <td>0</td>\n",
              "      <td>0</td>\n",
              "      <td>0</td>\n",
              "      <td>0</td>\n",
              "      <td>0</td>\n",
              "      <td>0</td>\n",
              "      <td>0</td>\n",
              "      <td>0</td>\n",
              "      <td>0</td>\n",
              "    </tr>\n",
              "    <tr>\n",
              "      <th>3</th>\n",
              "      <td>4</td>\n",
              "      <td>2021-01-01</td>\n",
              "      <td>6</td>\n",
              "      <td>7</td>\n",
              "      <td>2.0</td>\n",
              "      <td>2017-10-04</td>\n",
              "      <td>0</td>\n",
              "      <td>0</td>\n",
              "      <td>0</td>\n",
              "      <td>0</td>\n",
              "      <td>0</td>\n",
              "      <td>0</td>\n",
              "      <td>0</td>\n",
              "      <td>0</td>\n",
              "      <td>0</td>\n",
              "      <td>0</td>\n",
              "      <td>0</td>\n",
              "      <td>0</td>\n",
              "      <td>0</td>\n",
              "    </tr>\n",
              "    <tr>\n",
              "      <th>4</th>\n",
              "      <td>5</td>\n",
              "      <td>2021-01-01</td>\n",
              "      <td>4</td>\n",
              "      <td>6</td>\n",
              "      <td>NaN</td>\n",
              "      <td>2020-06-08</td>\n",
              "      <td>0</td>\n",
              "      <td>0</td>\n",
              "      <td>0</td>\n",
              "      <td>0</td>\n",
              "      <td>0</td>\n",
              "      <td>0</td>\n",
              "      <td>1</td>\n",
              "      <td>0</td>\n",
              "      <td>0</td>\n",
              "      <td>0</td>\n",
              "      <td>1</td>\n",
              "      <td>0</td>\n",
              "      <td>0</td>\n",
              "    </tr>\n",
              "  </tbody>\n",
              "</table>\n",
              "</div>\n",
              "      <button class=\"colab-df-convert\" onclick=\"convertToInteractive('df-19ec0a4c-6b6c-4b58-a323-c5e6412af520')\"\n",
              "              title=\"Convert this dataframe to an interactive table.\"\n",
              "              style=\"display:none;\">\n",
              "        \n",
              "  <svg xmlns=\"http://www.w3.org/2000/svg\" height=\"24px\"viewBox=\"0 0 24 24\"\n",
              "       width=\"24px\">\n",
              "    <path d=\"M0 0h24v24H0V0z\" fill=\"none\"/>\n",
              "    <path d=\"M18.56 5.44l.94 2.06.94-2.06 2.06-.94-2.06-.94-.94-2.06-.94 2.06-2.06.94zm-11 1L8.5 8.5l.94-2.06 2.06-.94-2.06-.94L8.5 2.5l-.94 2.06-2.06.94zm10 10l.94 2.06.94-2.06 2.06-.94-2.06-.94-.94-2.06-.94 2.06-2.06.94z\"/><path d=\"M17.41 7.96l-1.37-1.37c-.4-.4-.92-.59-1.43-.59-.52 0-1.04.2-1.43.59L10.3 9.45l-7.72 7.72c-.78.78-.78 2.05 0 2.83L4 21.41c.39.39.9.59 1.41.59.51 0 1.02-.2 1.41-.59l7.78-7.78 2.81-2.81c.8-.78.8-2.07 0-2.86zM5.41 20L4 18.59l7.72-7.72 1.47 1.35L5.41 20z\"/>\n",
              "  </svg>\n",
              "      </button>\n",
              "      \n",
              "  <style>\n",
              "    .colab-df-container {\n",
              "      display:flex;\n",
              "      flex-wrap:wrap;\n",
              "      gap: 12px;\n",
              "    }\n",
              "\n",
              "    .colab-df-convert {\n",
              "      background-color: #E8F0FE;\n",
              "      border: none;\n",
              "      border-radius: 50%;\n",
              "      cursor: pointer;\n",
              "      display: none;\n",
              "      fill: #1967D2;\n",
              "      height: 32px;\n",
              "      padding: 0 0 0 0;\n",
              "      width: 32px;\n",
              "    }\n",
              "\n",
              "    .colab-df-convert:hover {\n",
              "      background-color: #E2EBFA;\n",
              "      box-shadow: 0px 1px 2px rgba(60, 64, 67, 0.3), 0px 1px 3px 1px rgba(60, 64, 67, 0.15);\n",
              "      fill: #174EA6;\n",
              "    }\n",
              "\n",
              "    [theme=dark] .colab-df-convert {\n",
              "      background-color: #3B4455;\n",
              "      fill: #D2E3FC;\n",
              "    }\n",
              "\n",
              "    [theme=dark] .colab-df-convert:hover {\n",
              "      background-color: #434B5C;\n",
              "      box-shadow: 0px 1px 3px 1px rgba(0, 0, 0, 0.15);\n",
              "      filter: drop-shadow(0px 1px 2px rgba(0, 0, 0, 0.3));\n",
              "      fill: #FFFFFF;\n",
              "    }\n",
              "  </style>\n",
              "\n",
              "      <script>\n",
              "        const buttonEl =\n",
              "          document.querySelector('#df-19ec0a4c-6b6c-4b58-a323-c5e6412af520 button.colab-df-convert');\n",
              "        buttonEl.style.display =\n",
              "          google.colab.kernel.accessAllowed ? 'block' : 'none';\n",
              "\n",
              "        async function convertToInteractive(key) {\n",
              "          const element = document.querySelector('#df-19ec0a4c-6b6c-4b58-a323-c5e6412af520');\n",
              "          const dataTable =\n",
              "            await google.colab.kernel.invokeFunction('convertToInteractive',\n",
              "                                                     [key], {});\n",
              "          if (!dataTable) return;\n",
              "\n",
              "          const docLinkHtml = 'Like what you see? Visit the ' +\n",
              "            '<a target=\"_blank\" href=https://colab.research.google.com/notebooks/data_table.ipynb>data table notebook</a>'\n",
              "            + ' to learn more about interactive tables.';\n",
              "          element.innerHTML = '';\n",
              "          dataTable['output_type'] = 'display_data';\n",
              "          await google.colab.output.renderOutput(dataTable, element);\n",
              "          const docLink = document.createElement('div');\n",
              "          docLink.innerHTML = docLinkHtml;\n",
              "          element.appendChild(docLink);\n",
              "        }\n",
              "      </script>\n",
              "    </div>\n",
              "  </div>\n",
              "  "
            ]
          },
          "metadata": {},
          "execution_count": 30
        }
      ],
      "source": [
        "train.head()"
      ],
      "id": "Wb4m18Td18EY"
    },
    {
      "cell_type": "code",
      "execution_count": null,
      "metadata": {
        "id": "wGOjBX6B5p_3"
      },
      "outputs": [],
      "source": [
        "# spliting the dependent and independent features\n",
        "train_X = train_df.drop(['buy'], axis=1) \n",
        "train_y = train_df['buy']"
      ],
      "id": "wGOjBX6B5p_3"
    },
    {
      "cell_type": "code",
      "source": [
        "train_X.head()"
      ],
      "metadata": {
        "colab": {
          "base_uri": "https://localhost:8080/",
          "height": 270
        },
        "id": "t2rWp3GZzowO",
        "outputId": "15e0b3ef-1cff-4a6d-cb47-414c6744027b"
      },
      "id": "t2rWp3GZzowO",
      "execution_count": null,
      "outputs": [
        {
          "output_type": "execute_result",
          "data": {
            "text/plain": [
              "   campaign_var_1  campaign_var_2  products_purchased  user_activity_var_1  \\\n",
              "0               1               2                 2.0                    0   \n",
              "1               2               1                 2.0                    1   \n",
              "2               9               3                 3.0                    1   \n",
              "3               6               7                 2.0                    0   \n",
              "4               4               6                 0.0                    0   \n",
              "\n",
              "   user_activity_var_2  user_activity_var_3  user_activity_var_4  \\\n",
              "0                    0                    0                    0   \n",
              "1                    0                    1                    0   \n",
              "2                    0                    0                    0   \n",
              "3                    0                    0                    0   \n",
              "4                    0                    0                    0   \n",
              "\n",
              "   user_activity_var_5  user_activity_var_6  user_activity_var_7  \\\n",
              "0                    0                    0                    1   \n",
              "1                    0                    0                    1   \n",
              "2                    0                    0                    0   \n",
              "3                    0                    0                    0   \n",
              "4                    0                    0                    1   \n",
              "\n",
              "   user_activity_var_8  user_activity_var_9  user_activity_var_10  \\\n",
              "0                    1                    0                     0   \n",
              "1                    0                    0                     0   \n",
              "2                    0                    0                     0   \n",
              "3                    0                    0                     0   \n",
              "4                    0                    0                     0   \n",
              "\n",
              "   user_activity_var_11  user_activity_var_12  \n",
              "0                     0                     0  \n",
              "1                     0                     0  \n",
              "2                     0                     0  \n",
              "3                     0                     0  \n",
              "4                     1                     0  "
            ],
            "text/html": [
              "\n",
              "  <div id=\"df-7564b0ea-58a3-4950-b871-45c7e8e52545\">\n",
              "    <div class=\"colab-df-container\">\n",
              "      <div>\n",
              "<style scoped>\n",
              "    .dataframe tbody tr th:only-of-type {\n",
              "        vertical-align: middle;\n",
              "    }\n",
              "\n",
              "    .dataframe tbody tr th {\n",
              "        vertical-align: top;\n",
              "    }\n",
              "\n",
              "    .dataframe thead th {\n",
              "        text-align: right;\n",
              "    }\n",
              "</style>\n",
              "<table border=\"1\" class=\"dataframe\">\n",
              "  <thead>\n",
              "    <tr style=\"text-align: right;\">\n",
              "      <th></th>\n",
              "      <th>campaign_var_1</th>\n",
              "      <th>campaign_var_2</th>\n",
              "      <th>products_purchased</th>\n",
              "      <th>user_activity_var_1</th>\n",
              "      <th>user_activity_var_2</th>\n",
              "      <th>user_activity_var_3</th>\n",
              "      <th>user_activity_var_4</th>\n",
              "      <th>user_activity_var_5</th>\n",
              "      <th>user_activity_var_6</th>\n",
              "      <th>user_activity_var_7</th>\n",
              "      <th>user_activity_var_8</th>\n",
              "      <th>user_activity_var_9</th>\n",
              "      <th>user_activity_var_10</th>\n",
              "      <th>user_activity_var_11</th>\n",
              "      <th>user_activity_var_12</th>\n",
              "    </tr>\n",
              "  </thead>\n",
              "  <tbody>\n",
              "    <tr>\n",
              "      <th>0</th>\n",
              "      <td>1</td>\n",
              "      <td>2</td>\n",
              "      <td>2.0</td>\n",
              "      <td>0</td>\n",
              "      <td>0</td>\n",
              "      <td>0</td>\n",
              "      <td>0</td>\n",
              "      <td>0</td>\n",
              "      <td>0</td>\n",
              "      <td>1</td>\n",
              "      <td>1</td>\n",
              "      <td>0</td>\n",
              "      <td>0</td>\n",
              "      <td>0</td>\n",
              "      <td>0</td>\n",
              "    </tr>\n",
              "    <tr>\n",
              "      <th>1</th>\n",
              "      <td>2</td>\n",
              "      <td>1</td>\n",
              "      <td>2.0</td>\n",
              "      <td>1</td>\n",
              "      <td>0</td>\n",
              "      <td>1</td>\n",
              "      <td>0</td>\n",
              "      <td>0</td>\n",
              "      <td>0</td>\n",
              "      <td>1</td>\n",
              "      <td>0</td>\n",
              "      <td>0</td>\n",
              "      <td>0</td>\n",
              "      <td>0</td>\n",
              "      <td>0</td>\n",
              "    </tr>\n",
              "    <tr>\n",
              "      <th>2</th>\n",
              "      <td>9</td>\n",
              "      <td>3</td>\n",
              "      <td>3.0</td>\n",
              "      <td>1</td>\n",
              "      <td>0</td>\n",
              "      <td>0</td>\n",
              "      <td>0</td>\n",
              "      <td>0</td>\n",
              "      <td>0</td>\n",
              "      <td>0</td>\n",
              "      <td>0</td>\n",
              "      <td>0</td>\n",
              "      <td>0</td>\n",
              "      <td>0</td>\n",
              "      <td>0</td>\n",
              "    </tr>\n",
              "    <tr>\n",
              "      <th>3</th>\n",
              "      <td>6</td>\n",
              "      <td>7</td>\n",
              "      <td>2.0</td>\n",
              "      <td>0</td>\n",
              "      <td>0</td>\n",
              "      <td>0</td>\n",
              "      <td>0</td>\n",
              "      <td>0</td>\n",
              "      <td>0</td>\n",
              "      <td>0</td>\n",
              "      <td>0</td>\n",
              "      <td>0</td>\n",
              "      <td>0</td>\n",
              "      <td>0</td>\n",
              "      <td>0</td>\n",
              "    </tr>\n",
              "    <tr>\n",
              "      <th>4</th>\n",
              "      <td>4</td>\n",
              "      <td>6</td>\n",
              "      <td>0.0</td>\n",
              "      <td>0</td>\n",
              "      <td>0</td>\n",
              "      <td>0</td>\n",
              "      <td>0</td>\n",
              "      <td>0</td>\n",
              "      <td>0</td>\n",
              "      <td>1</td>\n",
              "      <td>0</td>\n",
              "      <td>0</td>\n",
              "      <td>0</td>\n",
              "      <td>1</td>\n",
              "      <td>0</td>\n",
              "    </tr>\n",
              "  </tbody>\n",
              "</table>\n",
              "</div>\n",
              "      <button class=\"colab-df-convert\" onclick=\"convertToInteractive('df-7564b0ea-58a3-4950-b871-45c7e8e52545')\"\n",
              "              title=\"Convert this dataframe to an interactive table.\"\n",
              "              style=\"display:none;\">\n",
              "        \n",
              "  <svg xmlns=\"http://www.w3.org/2000/svg\" height=\"24px\"viewBox=\"0 0 24 24\"\n",
              "       width=\"24px\">\n",
              "    <path d=\"M0 0h24v24H0V0z\" fill=\"none\"/>\n",
              "    <path d=\"M18.56 5.44l.94 2.06.94-2.06 2.06-.94-2.06-.94-.94-2.06-.94 2.06-2.06.94zm-11 1L8.5 8.5l.94-2.06 2.06-.94-2.06-.94L8.5 2.5l-.94 2.06-2.06.94zm10 10l.94 2.06.94-2.06 2.06-.94-2.06-.94-.94-2.06-.94 2.06-2.06.94z\"/><path d=\"M17.41 7.96l-1.37-1.37c-.4-.4-.92-.59-1.43-.59-.52 0-1.04.2-1.43.59L10.3 9.45l-7.72 7.72c-.78.78-.78 2.05 0 2.83L4 21.41c.39.39.9.59 1.41.59.51 0 1.02-.2 1.41-.59l7.78-7.78 2.81-2.81c.8-.78.8-2.07 0-2.86zM5.41 20L4 18.59l7.72-7.72 1.47 1.35L5.41 20z\"/>\n",
              "  </svg>\n",
              "      </button>\n",
              "      \n",
              "  <style>\n",
              "    .colab-df-container {\n",
              "      display:flex;\n",
              "      flex-wrap:wrap;\n",
              "      gap: 12px;\n",
              "    }\n",
              "\n",
              "    .colab-df-convert {\n",
              "      background-color: #E8F0FE;\n",
              "      border: none;\n",
              "      border-radius: 50%;\n",
              "      cursor: pointer;\n",
              "      display: none;\n",
              "      fill: #1967D2;\n",
              "      height: 32px;\n",
              "      padding: 0 0 0 0;\n",
              "      width: 32px;\n",
              "    }\n",
              "\n",
              "    .colab-df-convert:hover {\n",
              "      background-color: #E2EBFA;\n",
              "      box-shadow: 0px 1px 2px rgba(60, 64, 67, 0.3), 0px 1px 3px 1px rgba(60, 64, 67, 0.15);\n",
              "      fill: #174EA6;\n",
              "    }\n",
              "\n",
              "    [theme=dark] .colab-df-convert {\n",
              "      background-color: #3B4455;\n",
              "      fill: #D2E3FC;\n",
              "    }\n",
              "\n",
              "    [theme=dark] .colab-df-convert:hover {\n",
              "      background-color: #434B5C;\n",
              "      box-shadow: 0px 1px 3px 1px rgba(0, 0, 0, 0.15);\n",
              "      filter: drop-shadow(0px 1px 2px rgba(0, 0, 0, 0.3));\n",
              "      fill: #FFFFFF;\n",
              "    }\n",
              "  </style>\n",
              "\n",
              "      <script>\n",
              "        const buttonEl =\n",
              "          document.querySelector('#df-7564b0ea-58a3-4950-b871-45c7e8e52545 button.colab-df-convert');\n",
              "        buttonEl.style.display =\n",
              "          google.colab.kernel.accessAllowed ? 'block' : 'none';\n",
              "\n",
              "        async function convertToInteractive(key) {\n",
              "          const element = document.querySelector('#df-7564b0ea-58a3-4950-b871-45c7e8e52545');\n",
              "          const dataTable =\n",
              "            await google.colab.kernel.invokeFunction('convertToInteractive',\n",
              "                                                     [key], {});\n",
              "          if (!dataTable) return;\n",
              "\n",
              "          const docLinkHtml = 'Like what you see? Visit the ' +\n",
              "            '<a target=\"_blank\" href=https://colab.research.google.com/notebooks/data_table.ipynb>data table notebook</a>'\n",
              "            + ' to learn more about interactive tables.';\n",
              "          element.innerHTML = '';\n",
              "          dataTable['output_type'] = 'display_data';\n",
              "          await google.colab.output.renderOutput(dataTable, element);\n",
              "          const docLink = document.createElement('div');\n",
              "          docLink.innerHTML = docLinkHtml;\n",
              "          element.appendChild(docLink);\n",
              "        }\n",
              "      </script>\n",
              "    </div>\n",
              "  </div>\n",
              "  "
            ]
          },
          "metadata": {},
          "execution_count": 35
        }
      ]
    },
    {
      "cell_type": "code",
      "execution_count": null,
      "metadata": {
        "id": "ktB172Nj2NRc"
      },
      "outputs": [],
      "source": [
        "# # dropping row_id\n",
        "# drop_attr = [0]\n",
        "# drop_transfer = (\"drop_columns\", 'drop', drop_attr)"
      ],
      "id": "ktB172Nj2NRc"
    },
    {
      "cell_type": "code",
      "execution_count": null,
      "metadata": {
        "colab": {
          "base_uri": "https://localhost:8080/"
        },
        "id": "4VWwwiv32VXT",
        "outputId": "c8b618c5-daec-4a08-9145-2e6dd478952d"
      },
      "outputs": [
        {
          "output_type": "stream",
          "name": "stdout",
          "text": [
            "Index(['campaign_var_1', 'campaign_var_2', 'products_purchased',\n",
            "       'user_activity_var_1', 'user_activity_var_2', 'user_activity_var_3',\n",
            "       'user_activity_var_4', 'user_activity_var_5', 'user_activity_var_6',\n",
            "       'user_activity_var_7', 'user_activity_var_8', 'user_activity_var_9',\n",
            "       'user_activity_var_10', 'user_activity_var_11', 'user_activity_var_12'],\n",
            "      dtype='object')\n"
          ]
        },
        {
          "output_type": "stream",
          "name": "stderr",
          "text": [
            "/usr/local/lib/python3.7/dist-packages/ipykernel_launcher.py:2: DeprecationWarning: `np.int` is a deprecated alias for the builtin `int`. To silence this warning, use `int` by itself. Doing this will not modify any behavior and is safe. When replacing `np.int`, you may wish to use e.g. `np.int64` or `np.int32` to specify the precision. If you wish to review your current use, check the release note link for additional information.\n",
            "Deprecated in NumPy 1.20; for more details and guidance: https://numpy.org/devdocs/release/1.20.0-notes.html#deprecations\n",
            "  \n",
            "/usr/local/lib/python3.7/dist-packages/ipykernel_launcher.py:2: DeprecationWarning: `np.float` is a deprecated alias for the builtin `float`. To silence this warning, use `float` by itself. Doing this will not modify any behavior and is safe. If you specifically wanted the numpy scalar type, use `np.float64` here.\n",
            "Deprecated in NumPy 1.20; for more details and guidance: https://numpy.org/devdocs/release/1.20.0-notes.html#deprecations\n",
            "  \n"
          ]
        }
      ],
      "source": [
        "# min-max scaling the numerical features \n",
        "num_attr = train_X.select_dtypes(include=[np.int, np.float]).columns[0:]\n",
        "print(num_attr)\n",
        "min_max_num_transfer = ('min_max_scaler', MinMaxScaler(), num_attr)"
      ],
      "id": "4VWwwiv32VXT"
    },
    {
      "cell_type": "code",
      "execution_count": null,
      "metadata": {
        "colab": {
          "base_uri": "https://localhost:8080/"
        },
        "id": "4OggwC2S9apB",
        "outputId": "30b8aba6-fb1a-4e3d-a463-324f6388d462"
      },
      "outputs": [
        {
          "name": "stdout",
          "output_type": "stream",
          "text": [
            "Index(['user_id', 'category_id', 'video_id', 'age', 'followers', 'views'], dtype='object')\n"
          ]
        }
      ],
      "source": [
        "# standard scaling scaling the numerical features \n",
        "# num_attr = train_X.select_dtypes(include=[np.int, np.float]).columns[1:]\n",
        "# print(num_attr)\n",
        "# std_num_transfer = ('std_scaler', StandardScaler(), num_attr)"
      ],
      "id": "4OggwC2S9apB"
    },
    {
      "cell_type": "code",
      "execution_count": null,
      "metadata": {
        "id": "YtCp6rhB6Z19"
      },
      "outputs": [],
      "source": [
        "# one hot encoding the categorical features\n",
        "# cat_attr = train_X.select_dtypes(include=[np.object]).columns\n",
        "# cat_transfer = ('one_hot_encoder', OneHotEncoder(), cat_attr)"
      ],
      "id": "YtCp6rhB6Z19"
    },
    {
      "cell_type": "code",
      "execution_count": null,
      "metadata": {
        "id": "o9h7GEAi6bLe"
      },
      "outputs": [],
      "source": [
        "# std_scale_encoding_transformer = ColumnTransformer([std_num_transfer], remainder='passthrough')"
      ],
      "id": "o9h7GEAi6bLe"
    },
    {
      "cell_type": "code",
      "execution_count": null,
      "metadata": {
        "id": "4aoD03jmw5iZ"
      },
      "outputs": [],
      "source": [
        "min_max_scale_encoding_transformer = ColumnTransformer([min_max_num_transfer], remainder='passthrough')"
      ],
      "id": "4aoD03jmw5iZ"
    },
    {
      "cell_type": "code",
      "execution_count": null,
      "metadata": {
        "id": "nSU-WJQp6VsS"
      },
      "outputs": [],
      "source": [
        ""
      ],
      "id": "nSU-WJQp6VsS"
    },
    {
      "cell_type": "code",
      "execution_count": null,
      "metadata": {
        "id": "ZZseZKAi6WU_"
      },
      "outputs": [],
      "source": [
        ""
      ],
      "id": "ZZseZKAi6WU_"
    },
    {
      "cell_type": "markdown",
      "metadata": {
        "id": "lkIRsu738_TQ"
      },
      "source": [
        "# Step 6: Model Building and Training"
      ],
      "id": "lkIRsu738_TQ"
    },
    {
      "cell_type": "markdown",
      "metadata": {
        "id": "loT9Igt9kmLZ"
      },
      "source": [
        "## XGBoost"
      ],
      "id": "loT9Igt9kmLZ"
    },
    {
      "cell_type": "code",
      "execution_count": null,
      "metadata": {
        "id": "xY5lfZjzXSpP"
      },
      "outputs": [],
      "source": [
        "# XGboot Regression Model\n",
        "xgb = XGBClassifier(n_estimators=2000, learning_rate=0.005)"
      ],
      "id": "xY5lfZjzXSpP"
    },
    {
      "cell_type": "code",
      "execution_count": null,
      "metadata": {
        "id": "DSPmE9QQH-Tj"
      },
      "outputs": [],
      "source": [
        "# Initilizing the pipeline\n",
        "xgb_pipe = Pipeline(steps=[('data_preprocessing', min_max_scale_encoding_transformer), ('xgb', xgb)])"
      ],
      "id": "DSPmE9QQH-Tj"
    },
    {
      "cell_type": "code",
      "execution_count": null,
      "metadata": {
        "colab": {
          "base_uri": "https://localhost:8080/"
        },
        "id": "0VGGyArtmsdR",
        "outputId": "553aa9eb-7904-4228-b0ca-4d53d5f86645"
      },
      "outputs": [
        {
          "output_type": "execute_result",
          "data": {
            "text/plain": [
              "Pipeline(steps=[('data_preprocessing',\n",
              "                 ColumnTransformer(remainder='passthrough',\n",
              "                                   transformers=[('min_max_scaler',\n",
              "                                                  MinMaxScaler(),\n",
              "                                                  Index(['campaign_var_1', 'campaign_var_2', 'products_purchased',\n",
              "       'user_activity_var_1', 'user_activity_var_2', 'user_activity_var_3',\n",
              "       'user_activity_var_4', 'user_activity_var_5', 'user_activity_var_6',\n",
              "       'user_activity_var_7', 'user_activity_var_8', 'user_activity_var_9',\n",
              "       'user_activity_var_10', 'user_activity_var_11', 'user_activity_var_12'],\n",
              "      dtype='object'))])),\n",
              "                ('xgb', XGBClassifier(learning_rate=0.005, n_estimators=2000))])"
            ]
          },
          "metadata": {},
          "execution_count": 59
        }
      ],
      "source": [
        "# training the model\n",
        "xgb_pipe.fit(train_X, train_y)"
      ],
      "id": "0VGGyArtmsdR"
    },
    {
      "cell_type": "code",
      "execution_count": null,
      "metadata": {
        "colab": {
          "background_save": true
        },
        "id": "wszY1697OiEn"
      },
      "outputs": [],
      "source": [
        ""
      ],
      "id": "wszY1697OiEn"
    },
    {
      "cell_type": "code",
      "execution_count": null,
      "metadata": {
        "colab": {
          "background_save": true
        },
        "id": "3xL5vjNiOiZH"
      },
      "outputs": [],
      "source": [
        ""
      ],
      "id": "3xL5vjNiOiZH"
    },
    {
      "cell_type": "markdown",
      "source": [
        "## Decision Tree"
      ],
      "metadata": {
        "id": "07QdWH2v2Gbe"
      },
      "id": "07QdWH2v2Gbe"
    },
    {
      "cell_type": "markdown",
      "metadata": {
        "id": "EGqNz7EixEpX"
      },
      "source": [
        "# Step 7: Prediction on Test set and Submission"
      ],
      "id": "EGqNz7EixEpX"
    },
    {
      "cell_type": "code",
      "execution_count": null,
      "metadata": {
        "id": "ApOwWoShx2xn"
      },
      "outputs": [],
      "source": [
        "submission_path = '/content/drive/MyDrive/Job-A-Thon_2022/sample_submission.csv'"
      ],
      "id": "ApOwWoShx2xn"
    },
    {
      "cell_type": "code",
      "execution_count": null,
      "metadata": {
        "id": "HsDgtbGPxKvL"
      },
      "outputs": [],
      "source": [
        "submission = pd.read_csv(submission_path)\n",
        "final_predictions = xgb_pipe.predict(test)\n",
        "submission['buy'] = final_predictions\n",
        "#only positive predictions for the target variable\n",
        "# submission['buy'] = submission['buy'].apply(lambda x: 0 if x<0 else x)\n",
        "submission.to_csv('my_submission_xgb_n2000_lr0005.csv', index=False)"
      ],
      "id": "HsDgtbGPxKvL"
    },
    {
      "cell_type": "code",
      "execution_count": null,
      "metadata": {
        "id": "5SQgtt68yF7H"
      },
      "outputs": [],
      "source": [
        "# solution\n",
        "# learning rate/eta - 0.1\n",
        "# max depth - 10\n",
        "# n_estimators - 5000\n",
        "# my_submission_xgb_full_n5000_lr1_max10.csv"
      ],
      "id": "5SQgtt68yF7H"
    },
    {
      "cell_type": "code",
      "execution_count": null,
      "metadata": {
        "id": "JkAftZ_A7Es8"
      },
      "outputs": [],
      "source": [
        ""
      ],
      "id": "JkAftZ_A7Es8"
    }
  ],
  "metadata": {
    "colab": {
      "collapsed_sections": [
        "xKXVO9g_lkQD",
        "Volp0LC9dgPi",
        "jq5qyVxidlka",
        "CKno1-e3jHWJ",
        "loT9Igt9kmLZ"
      ],
      "name": "Job_A_Thon.ipynb",
      "provenance": [],
      "include_colab_link": true
    },
    "kernelspec": {
      "display_name": "Python 3",
      "language": "python",
      "name": "python3"
    },
    "language_info": {
      "codemirror_mode": {
        "name": "ipython",
        "version": 3
      },
      "file_extension": ".py",
      "mimetype": "text/x-python",
      "name": "python",
      "nbconvert_exporter": "python",
      "pygments_lexer": "ipython3",
      "version": "3.7.11"
    }
  },
  "nbformat": 4,
  "nbformat_minor": 5
}